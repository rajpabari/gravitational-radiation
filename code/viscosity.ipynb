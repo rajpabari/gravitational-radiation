{
 "cells": [
  {
   "cell_type": "code",
   "execution_count": 39,
   "id": "5c430457",
   "metadata": {},
   "outputs": [],
   "source": [
    "from jax import jacobian, random\n",
    "import jax.numpy as jnp\n",
    "import jax.scipy as jsp\n",
    "from diffrax import ODETerm, Dopri5, diffeqsolve, SaveAt\n",
    "from jaxtyping import Array, Int, Float\n",
    "import matplotlib.pyplot as plt\n",
    "\n",
    "key = random.PRNGKey(758493)\n",
    "\n",
    "# jax.config.update(\"jax_enable_x64\", True)"
   ]
  },
  {
   "cell_type": "markdown",
   "id": "0a277aee",
   "metadata": {},
   "source": [
    "### Define relevant constants"
   ]
  },
  {
   "cell_type": "code",
   "execution_count": 40,
   "id": "6eb1c319",
   "metadata": {},
   "outputs": [
    {
     "data": {
      "text/plain": [
       "Array([1.432546  , 1.4296852 , 0.48825982], dtype=float32)"
      ]
     },
     "execution_count": 40,
     "metadata": {},
     "output_type": "execute_result"
    }
   ],
   "source": [
    "omega_0 = jnp.sqrt(0.44022)\n",
    "e0 = 0.95289\n",
    "viscosity = 1\n",
    "\n",
    "U = 1e4  # finite upper bound for numerical integration over [0, infty]\n",
    "n_disc = int(1e6)  # number of discretization points per integral\n",
    "\n",
    "step_size = 1e-3\n",
    "\n",
    "\n",
    "eps = 1e-3\n",
    "e = 0.94\n",
    "a_0 = jnp.array(\n",
    "    [\n",
    "        (1 - e**2) ** (-1 / 6) * (1 + eps),\n",
    "        (1 - e**2) ** (-1 / 6) / (1 + eps),\n",
    "        (1 - e**2) ** (1 / 3),\n",
    "    ]\n",
    ")\n",
    "\n",
    "T = 100\n",
    "a_0"
   ]
  },
  {
   "cell_type": "markdown",
   "id": "62d7ef35",
   "metadata": {},
   "source": [
    "### Set up numerical index symbols and corresponding derivative"
   ]
  },
  {
   "cell_type": "code",
   "execution_count": 41,
   "id": "a4d1c45d",
   "metadata": {},
   "outputs": [],
   "source": [
    "def index_symbol(a: Array) -> Array:\n",
    "    \"\"\"\n",
    "    Input: a [shape (3,)]\n",
    "    Output: Index symbols A [shape (3,)]\n",
    "    \"\"\"\n",
    "    assert a.shape == (3,)\n",
    "    u = jnp.expand_dims(jnp.linspace(0, U, n_disc), axis=1)\n",
    "\n",
    "    integrand = (a[0] * a[1] * a[2]) / (\n",
    "        (a**2 + u) * jnp.sqrt((a[0] ** 2 + u) * (a[1] ** 2 + u) * (a[2] ** 2 + u))\n",
    "    )\n",
    "    return jsp.integrate.trapezoid(integrand.T, u.flatten())\n",
    "\n",
    "\n",
    "def d_index_symbol_analytic(a: Array) -> Array:\n",
    "    u = jnp.expand_dims(jnp.linspace(0, U, n_disc), axis=1)\n",
    "\n",
    "    def _d_diagonal(i: Int) -> Float:\n",
    "        j = (i + 1) % 3\n",
    "        k = (i + 2) % 3\n",
    "        integrand = (\n",
    "            -a[j]\n",
    "            * a[k]\n",
    "            * (2 * a[i] ** 2 - u)\n",
    "            / (\n",
    "                jnp.sqrt(u**2 + (a[j] ** 2 + a[k] ** 2) * u + a[j] ** 2 * a[k] ** 2)\n",
    "                * jnp.sqrt(a[i] ** 2 + u)\n",
    "                * (a[i] ** 4 + 2 * u * a[i] ** 2 + u**2)\n",
    "            )\n",
    "        )\n",
    "        return jsp.integrate.trapezoid(integrand.T, u.flatten())\n",
    "\n",
    "    def _d_off_diagonal(i: Int, j: Int) -> Float:\n",
    "        k = 3 - (i + j)\n",
    "        integrand = (a[i] * a[k] * u) / (\n",
    "            (u + a[i] ** 2)\n",
    "            * jnp.sqrt(u**2 + (a[k] ** 2 + a[i] ** 2) * u + (a[i] ** 2 * a[k] ** 2))\n",
    "            * ((a[j] ** 2 + u) ** (3 / 2))\n",
    "        )\n",
    "        return jsp.integrate.trapezoid(integrand.T, u.flatten())\n",
    "\n",
    "    dA = jnp.zeros((3, 3))\n",
    "    rows = [\n",
    "        [_d_diagonal(i) if i == j else _d_off_diagonal(i, j) for j in range(3)]\n",
    "        for i in range(3)\n",
    "    ]\n",
    "    dA = jnp.array(rows)\n",
    "    dA = jnp.squeeze(dA)\n",
    "    return dA\n",
    "\n",
    "\n",
    "def d_index_symbol(a: Array) -> Array:\n",
    "    \"\"\"\n",
    "    Input: a [shape (3,)]\n",
    "    Output: derivative matrix dA [shape (3,3)]\n",
    "    with dA[i,j] = \\partial A_i / \\partial a_j (0-indexed)\n",
    "    \"\"\"\n",
    "    return jacobian(index_symbol)(a)"
   ]
  },
  {
   "cell_type": "code",
   "execution_count": 42,
   "id": "27582b99",
   "metadata": {},
   "outputs": [
    {
     "data": {
      "text/plain": [
       "Array([[8.9406967e-08, 5.9604645e-08, 1.4901161e-08],\n",
       "       [2.2351742e-08, 2.9802322e-08, 2.9802322e-08],\n",
       "       [4.4703484e-08, 1.7881393e-07, 0.0000000e+00]], dtype=float32)"
      ]
     },
     "execution_count": 42,
     "metadata": {},
     "output_type": "execute_result"
    }
   ],
   "source": [
    "abs(\n",
    "    d_index_symbol_analytic(jnp.array([3.2, 2.2, 1.5]))\n",
    "    - d_index_symbol(jnp.array([3.2, 2.2, 1.5]))\n",
    ")"
   ]
  },
  {
   "cell_type": "markdown",
   "id": "8eb75c29",
   "metadata": {},
   "source": [
    "### Define coefficients"
   ]
  },
  {
   "cell_type": "code",
   "execution_count": 43,
   "id": "f994174a",
   "metadata": {},
   "outputs": [],
   "source": [
    "def _Sigma(sign: Int, a: Array, A: Array) -> Float:\n",
    "    \"\"\"\n",
    "    Private helper for computing lambda and omega, defined such that\n",
    "    Sigma(1) = (Lambda + Omega)^2, Sigma(-1) = (Lambda - Omega)^2\n",
    "    \"\"\"\n",
    "    assert abs(sign) == 1\n",
    "    return 2 * (\n",
    "        (a[0] * A[0] - sign * a[1] * A[1]) / (a[0] - sign * a[1])\n",
    "        + sign * (a[2] ** 2) * A[2] / (a[0] * a[1])\n",
    "    )\n",
    "\n",
    "\n",
    "def Lambda(a: Array, A: Array) -> Float:  ### vorticity\n",
    "    return (1 / 2) * (jnp.sqrt(_Sigma(1, a, A)) + jnp.sqrt(_Sigma(-1, a, A)))\n",
    "\n",
    "\n",
    "def Omega(a: Array, A: Array) -> Float:  ### angular velocity\n",
    "    return (1 / 2) * (jnp.sqrt(_Sigma(1, a, A)) - jnp.sqrt(_Sigma(-1, a, A)))"
   ]
  },
  {
   "cell_type": "code",
   "execution_count": 44,
   "id": "d75f717f",
   "metadata": {},
   "outputs": [],
   "source": [
    "### Sanity checks for Lambda and Omega\n",
    "\n",
    "assert (\n",
    "    jnp.abs(\n",
    "        (Lambda(a_0, index_symbol(a_0)) - Omega(a_0, index_symbol(a_0))) ** 2\n",
    "        - _Sigma(-1, a_0, index_symbol(a_0))\n",
    "    )\n",
    "    < eps\n",
    ")\n",
    "assert (\n",
    "    jnp.abs(\n",
    "        (Lambda(a_0, index_symbol(a_0)) + Omega(a_0, index_symbol(a_0))) ** 2\n",
    "        - _Sigma(1, a_0, index_symbol(a_0))\n",
    "    )\n",
    "    < eps\n",
    ")"
   ]
  },
  {
   "cell_type": "code",
   "execution_count": 45,
   "id": "141042a6",
   "metadata": {},
   "outputs": [],
   "source": [
    "def _Q(alpha: Int, epsilon: Int, a: Array, A: Array, dA: Array) -> Float:\n",
    "    \"\"\"\n",
    "    Helper function for computing b_i coefficients (from Detweiler and Lindblom)\n",
    "    \"\"\"\n",
    "    assert alpha in [1, 2]\n",
    "    assert abs(epsilon) == 1\n",
    "    sgn = -1 if alpha == 1 and epsilon == -1 else 1\n",
    "    alpha -= 1\n",
    "    beta = alpha ^ 1\n",
    "\n",
    "    return (\n",
    "        A[alpha]\n",
    "        + a[alpha] * dA[alpha, alpha]\n",
    "        + epsilon * a[beta] * dA[beta, alpha]\n",
    "        - a[2] * dA[alpha, 2]\n",
    "        - a[2] * a[beta] * dA[beta, 2] / a[alpha]\n",
    "        - (a[0] * A[0] + epsilon * a[1] * A[1]) / (a[0] + epsilon * a[1])\n",
    "        + (\n",
    "            sgn\n",
    "            * (a[0] + epsilon * a[1])\n",
    "            * (3 * A[2] + a[2] * dA[2, 2] - a[alpha] * dA[2, alpha])\n",
    "            * (a[2] ** 2)\n",
    "            / ((a[alpha] ** 2) * a[beta])\n",
    "        )\n",
    "        + 2 * ((Lambda(a, A) - epsilon * Omega(a, A)) ** 2)\n",
    "    ) / (Lambda(a, A) - epsilon * Omega(a, A))"
   ]
  },
  {
   "cell_type": "code",
   "execution_count": 46,
   "id": "dd4c196a",
   "metadata": {},
   "outputs": [],
   "source": [
    "def _b(a: Array):\n",
    "    A = index_symbol(a)\n",
    "    dA = d_index_symbol(a)\n",
    "\n",
    "    def _b0() -> Float:\n",
    "        return (\n",
    "            -5\n",
    "            * Lambda(a, A)\n",
    "            * ((a[0] ** 2) - (a[1] ** 2))\n",
    "            / ((a[0] ** 2) * (a[1] ** 2))\n",
    "            * (_Q(2, 1, a, A, dA) * (a[0] + a[1]) + _Q(2, -1, a, A, dA) * (a[0] - a[1]))\n",
    "            / (\n",
    "                _Q(1, 1, a, A, dA) * _Q(2, -1, a, A, dA)\n",
    "                + _Q(1, -1, a, A, dA) * _Q(2, 1, a, A, dA)\n",
    "            )\n",
    "        )\n",
    "\n",
    "    def _b1() -> Float:\n",
    "        return (\n",
    "            -5\n",
    "            * Lambda(a, A)\n",
    "            * ((a[0] ** 2) - (a[1] ** 2))\n",
    "            / ((a[0] ** 2) * (a[1] ** 2))\n",
    "            * (_Q(1, -1, a, A, dA) * (a[0] - a[1]) - _Q(1, 1, a, A, dA) * (a[0] + a[1]))\n",
    "            / (\n",
    "                _Q(1, 1, a, A, dA) * _Q(2, -1, a, A, dA)\n",
    "                + _Q(1, -1, a, A, dA) * _Q(2, 1, a, A, dA)\n",
    "            )\n",
    "        )\n",
    "\n",
    "    def _b2() -> Float:\n",
    "        return -a[2] * (_b0() / a[0] + _b1() / a[1])\n",
    "\n",
    "    return jnp.stack([_b0(), _b1(), _b2()])"
   ]
  },
  {
   "cell_type": "markdown",
   "id": "76b0cbb7",
   "metadata": {},
   "source": [
    "### Timing"
   ]
  },
  {
   "cell_type": "code",
   "execution_count": 47,
   "id": "2a50b9be",
   "metadata": {},
   "outputs": [
    {
     "name": "stdout",
     "output_type": "stream",
     "text": [
      "CPU times: user 1.66 s, sys: 86.7 ms, total: 1.75 s\n",
      "Wall time: 595 ms\n"
     ]
    }
   ],
   "source": [
    "%%time\n",
    "for i in range(100):\n",
    "    index_symbol(random.uniform(key, shape=(3,)))\n"
   ]
  },
  {
   "cell_type": "code",
   "execution_count": 48,
   "id": "f3a1de59",
   "metadata": {},
   "outputs": [
    {
     "ename": "KeyboardInterrupt",
     "evalue": "",
     "output_type": "error",
     "traceback": [
      "\u001b[0;31m---------------------------------------------------------------------------\u001b[0m",
      "\u001b[0;31mKeyboardInterrupt\u001b[0m                         Traceback (most recent call last)",
      "File \u001b[0;32m<timed exec>:2\u001b[0m\n",
      "Cell \u001b[0;32mIn[41], line 58\u001b[0m, in \u001b[0;36md_index_symbol\u001b[0;34m(a)\u001b[0m\n\u001b[1;32m     52\u001b[0m \u001b[38;5;28;01mdef\u001b[39;00m \u001b[38;5;21md_index_symbol\u001b[39m(a: Array) \u001b[38;5;241m-\u001b[39m\u001b[38;5;241m>\u001b[39m Array:\n\u001b[1;32m     53\u001b[0m \u001b[38;5;250m    \u001b[39m\u001b[38;5;124;03m\"\"\"\u001b[39;00m\n\u001b[1;32m     54\u001b[0m \u001b[38;5;124;03m    Input: a [shape (3,)]\u001b[39;00m\n\u001b[1;32m     55\u001b[0m \u001b[38;5;124;03m    Output: derivative matrix dA [shape (3,3)]\u001b[39;00m\n\u001b[1;32m     56\u001b[0m \u001b[38;5;124;03m    with dA[i,j] = \\partial A_i / \\partial a_j (0-indexed)\u001b[39;00m\n\u001b[1;32m     57\u001b[0m \u001b[38;5;124;03m    \"\"\"\u001b[39;00m\n\u001b[0;32m---> 58\u001b[0m     \u001b[38;5;28;01mreturn\u001b[39;00m jacobian(index_symbol)(a)\n",
      "File \u001b[0;32m~/anaconda3/envs/cs224n/lib/python3.11/site-packages/jax/_src/api.py:668\u001b[0m, in \u001b[0;36mjacrev.<locals>.jacfun\u001b[0;34m(*args, **kwargs)\u001b[0m\n\u001b[1;32m    666\u001b[0m tree_map(partial(_check_input_dtype_jacrev, holomorphic, allow_int), dyn_args)\n\u001b[1;32m    667\u001b[0m \u001b[38;5;28;01mif\u001b[39;00m \u001b[38;5;129;01mnot\u001b[39;00m has_aux:\n\u001b[0;32m--> 668\u001b[0m   y, pullback \u001b[38;5;241m=\u001b[39m _vjp(f_partial, \u001b[38;5;241m*\u001b[39mdyn_args)\n\u001b[1;32m    669\u001b[0m \u001b[38;5;28;01melse\u001b[39;00m:\n\u001b[1;32m    670\u001b[0m   y, pullback, aux \u001b[38;5;241m=\u001b[39m _vjp(f_partial, \u001b[38;5;241m*\u001b[39mdyn_args, has_aux\u001b[38;5;241m=\u001b[39m\u001b[38;5;28;01mTrue\u001b[39;00m)\n",
      "File \u001b[0;32m~/anaconda3/envs/cs224n/lib/python3.11/site-packages/jax/_src/api.py:1962\u001b[0m, in \u001b[0;36m_vjp\u001b[0;34m(fun, has_aux, *primals)\u001b[0m\n\u001b[1;32m   1960\u001b[0m \u001b[38;5;28;01mif\u001b[39;00m \u001b[38;5;129;01mnot\u001b[39;00m has_aux:\n\u001b[1;32m   1961\u001b[0m   flat_fun, out_tree \u001b[38;5;241m=\u001b[39m flatten_fun_nokwargs(fun, in_tree)\n\u001b[0;32m-> 1962\u001b[0m   out_primals, vjp \u001b[38;5;241m=\u001b[39m ad\u001b[38;5;241m.\u001b[39mvjp(flat_fun, primals_flat)\n\u001b[1;32m   1963\u001b[0m   out_tree \u001b[38;5;241m=\u001b[39m out_tree()\n\u001b[1;32m   1964\u001b[0m \u001b[38;5;28;01melse\u001b[39;00m:\n",
      "File \u001b[0;32m~/anaconda3/envs/cs224n/lib/python3.11/site-packages/jax/_src/interpreters/ad.py:142\u001b[0m, in \u001b[0;36mvjp\u001b[0;34m(traceable, primals, has_aux)\u001b[0m\n\u001b[1;32m    140\u001b[0m \u001b[38;5;28;01mdef\u001b[39;00m \u001b[38;5;21mvjp\u001b[39m(traceable, primals, has_aux\u001b[38;5;241m=\u001b[39m\u001b[38;5;28;01mFalse\u001b[39;00m):\n\u001b[1;32m    141\u001b[0m   \u001b[38;5;28;01mif\u001b[39;00m \u001b[38;5;129;01mnot\u001b[39;00m has_aux:\n\u001b[0;32m--> 142\u001b[0m     out_primals, pvals, jaxpr, consts \u001b[38;5;241m=\u001b[39m linearize(traceable, \u001b[38;5;241m*\u001b[39mprimals)\n\u001b[1;32m    143\u001b[0m   \u001b[38;5;28;01melse\u001b[39;00m:\n\u001b[1;32m    144\u001b[0m     out_primals, pvals, jaxpr, consts, aux \u001b[38;5;241m=\u001b[39m linearize(traceable, \u001b[38;5;241m*\u001b[39mprimals, has_aux\u001b[38;5;241m=\u001b[39m\u001b[38;5;28;01mTrue\u001b[39;00m)\n",
      "File \u001b[0;32m~/anaconda3/envs/cs224n/lib/python3.11/site-packages/jax/_src/interpreters/ad.py:131\u001b[0m, in \u001b[0;36mlinearize\u001b[0;34m(traceable, *primals, **kwargs)\u001b[0m\n\u001b[1;32m    129\u001b[0m _, in_tree \u001b[38;5;241m=\u001b[39m tree_flatten(((primals, primals), {}))\n\u001b[1;32m    130\u001b[0m jvpfun_flat, out_tree \u001b[38;5;241m=\u001b[39m flatten_fun(jvpfun, in_tree)\n\u001b[0;32m--> 131\u001b[0m jaxpr, out_pvals, consts \u001b[38;5;241m=\u001b[39m pe\u001b[38;5;241m.\u001b[39mtrace_to_jaxpr_nounits(jvpfun_flat, in_pvals)\n\u001b[1;32m    132\u001b[0m out_primals_pvals, out_tangents_pvals \u001b[38;5;241m=\u001b[39m tree_unflatten(out_tree(), out_pvals)\n\u001b[1;32m    133\u001b[0m \u001b[38;5;28;01massert\u001b[39;00m \u001b[38;5;28mall\u001b[39m(out_primal_pval\u001b[38;5;241m.\u001b[39mis_known() \u001b[38;5;28;01mfor\u001b[39;00m out_primal_pval \u001b[38;5;129;01min\u001b[39;00m out_primals_pvals)\n",
      "File \u001b[0;32m~/anaconda3/envs/cs224n/lib/python3.11/site-packages/jax/_src/profiler.py:333\u001b[0m, in \u001b[0;36mannotate_function.<locals>.wrapper\u001b[0;34m(*args, **kwargs)\u001b[0m\n\u001b[1;32m    330\u001b[0m \u001b[38;5;129m@wraps\u001b[39m(func)\n\u001b[1;32m    331\u001b[0m \u001b[38;5;28;01mdef\u001b[39;00m \u001b[38;5;21mwrapper\u001b[39m(\u001b[38;5;241m*\u001b[39margs, \u001b[38;5;241m*\u001b[39m\u001b[38;5;241m*\u001b[39mkwargs):\n\u001b[1;32m    332\u001b[0m   \u001b[38;5;28;01mwith\u001b[39;00m TraceAnnotation(name, \u001b[38;5;241m*\u001b[39m\u001b[38;5;241m*\u001b[39mdecorator_kwargs):\n\u001b[0;32m--> 333\u001b[0m     \u001b[38;5;28;01mreturn\u001b[39;00m func(\u001b[38;5;241m*\u001b[39margs, \u001b[38;5;241m*\u001b[39m\u001b[38;5;241m*\u001b[39mkwargs)\n\u001b[1;32m    334\u001b[0m   \u001b[38;5;28;01mreturn\u001b[39;00m wrapper\n",
      "File \u001b[0;32m~/anaconda3/envs/cs224n/lib/python3.11/site-packages/jax/_src/interpreters/partial_eval.py:681\u001b[0m, in \u001b[0;36mtrace_to_jaxpr_nounits\u001b[0;34m(fun, pvals, instantiate)\u001b[0m\n\u001b[1;32m    679\u001b[0m \u001b[38;5;28;01mwith\u001b[39;00m core\u001b[38;5;241m.\u001b[39mnew_main(JaxprTrace, name_stack\u001b[38;5;241m=\u001b[39mcurrent_name_stack) \u001b[38;5;28;01mas\u001b[39;00m main:\n\u001b[1;32m    680\u001b[0m   fun \u001b[38;5;241m=\u001b[39m trace_to_subjaxpr_nounits(fun, main, instantiate)\n\u001b[0;32m--> 681\u001b[0m   jaxpr, (out_pvals, consts, env) \u001b[38;5;241m=\u001b[39m fun\u001b[38;5;241m.\u001b[39mcall_wrapped(pvals)\n\u001b[1;32m    682\u001b[0m   \u001b[38;5;28;01massert\u001b[39;00m \u001b[38;5;129;01mnot\u001b[39;00m env\n\u001b[1;32m    683\u001b[0m   \u001b[38;5;28;01mdel\u001b[39;00m main, fun, env\n",
      "File \u001b[0;32m~/anaconda3/envs/cs224n/lib/python3.11/site-packages/jax/_src/linear_util.py:193\u001b[0m, in \u001b[0;36mWrappedFun.call_wrapped\u001b[0;34m(self, *args, **kwargs)\u001b[0m\n\u001b[1;32m    190\u001b[0m gen \u001b[38;5;241m=\u001b[39m gen_static_args \u001b[38;5;241m=\u001b[39m out_store \u001b[38;5;241m=\u001b[39m \u001b[38;5;28;01mNone\u001b[39;00m\n\u001b[1;32m    192\u001b[0m \u001b[38;5;28;01mtry\u001b[39;00m:\n\u001b[0;32m--> 193\u001b[0m   ans \u001b[38;5;241m=\u001b[39m \u001b[38;5;28mself\u001b[39m\u001b[38;5;241m.\u001b[39mf(\u001b[38;5;241m*\u001b[39margs, \u001b[38;5;241m*\u001b[39m\u001b[38;5;241m*\u001b[39m\u001b[38;5;28mdict\u001b[39m(\u001b[38;5;28mself\u001b[39m\u001b[38;5;241m.\u001b[39mparams, \u001b[38;5;241m*\u001b[39m\u001b[38;5;241m*\u001b[39mkwargs))\n\u001b[1;32m    194\u001b[0m \u001b[38;5;28;01mexcept\u001b[39;00m:\n\u001b[1;32m    195\u001b[0m   \u001b[38;5;66;03m# Some transformations yield from inside context managers, so we have to\u001b[39;00m\n\u001b[1;32m    196\u001b[0m   \u001b[38;5;66;03m# interrupt them before reraising the exception. Otherwise they will only\u001b[39;00m\n\u001b[1;32m    197\u001b[0m   \u001b[38;5;66;03m# get garbage-collected at some later time, running their cleanup tasks\u001b[39;00m\n\u001b[1;32m    198\u001b[0m   \u001b[38;5;66;03m# only after this exception is handled, which can corrupt the global\u001b[39;00m\n\u001b[1;32m    199\u001b[0m   \u001b[38;5;66;03m# state.\u001b[39;00m\n\u001b[1;32m    200\u001b[0m   \u001b[38;5;28;01mwhile\u001b[39;00m stack:\n",
      "Cell \u001b[0;32mIn[41], line 10\u001b[0m, in \u001b[0;36mindex_symbol\u001b[0;34m(a)\u001b[0m\n\u001b[1;32m      6\u001b[0m \u001b[38;5;28;01massert\u001b[39;00m a\u001b[38;5;241m.\u001b[39mshape \u001b[38;5;241m==\u001b[39m (\u001b[38;5;241m3\u001b[39m,)\n\u001b[1;32m      7\u001b[0m u \u001b[38;5;241m=\u001b[39m jnp\u001b[38;5;241m.\u001b[39mexpand_dims(jnp\u001b[38;5;241m.\u001b[39mlinspace(\u001b[38;5;241m0\u001b[39m, U, n_disc), axis\u001b[38;5;241m=\u001b[39m\u001b[38;5;241m1\u001b[39m)\n\u001b[1;32m      9\u001b[0m integrand \u001b[38;5;241m=\u001b[39m (a[\u001b[38;5;241m0\u001b[39m] \u001b[38;5;241m*\u001b[39m a[\u001b[38;5;241m1\u001b[39m] \u001b[38;5;241m*\u001b[39m a[\u001b[38;5;241m2\u001b[39m]) \u001b[38;5;241m/\u001b[39m (\n\u001b[0;32m---> 10\u001b[0m     (a\u001b[38;5;241m*\u001b[39m\u001b[38;5;241m*\u001b[39m\u001b[38;5;241m2\u001b[39m \u001b[38;5;241m+\u001b[39m u) \u001b[38;5;241m*\u001b[39m jnp\u001b[38;5;241m.\u001b[39msqrt((a[\u001b[38;5;241m0\u001b[39m] \u001b[38;5;241m*\u001b[39m\u001b[38;5;241m*\u001b[39m \u001b[38;5;241m2\u001b[39m \u001b[38;5;241m+\u001b[39m u) \u001b[38;5;241m*\u001b[39m (a[\u001b[38;5;241m1\u001b[39m] \u001b[38;5;241m*\u001b[39m\u001b[38;5;241m*\u001b[39m \u001b[38;5;241m2\u001b[39m \u001b[38;5;241m+\u001b[39m u) \u001b[38;5;241m*\u001b[39m (a[\u001b[38;5;241m2\u001b[39m] \u001b[38;5;241m*\u001b[39m\u001b[38;5;241m*\u001b[39m \u001b[38;5;241m2\u001b[39m \u001b[38;5;241m+\u001b[39m u))\n\u001b[1;32m     11\u001b[0m )\n\u001b[1;32m     12\u001b[0m \u001b[38;5;28;01mreturn\u001b[39;00m jsp\u001b[38;5;241m.\u001b[39mintegrate\u001b[38;5;241m.\u001b[39mtrapezoid(integrand\u001b[38;5;241m.\u001b[39mT, u\u001b[38;5;241m.\u001b[39mflatten())\n",
      "    \u001b[0;31m[... skipping hidden 1 frame]\u001b[0m\n",
      "File \u001b[0;32m~/anaconda3/envs/cs224n/lib/python3.11/site-packages/jax/_src/pjit.py:338\u001b[0m, in \u001b[0;36m_cpp_pjit.<locals>.cache_miss\u001b[0;34m(*args, **kwargs)\u001b[0m\n\u001b[1;32m    335\u001b[0m \u001b[38;5;28;01mif\u001b[39;00m config\u001b[38;5;241m.\u001b[39mno_tracing\u001b[38;5;241m.\u001b[39mvalue:\n\u001b[1;32m    336\u001b[0m   \u001b[38;5;28;01mraise\u001b[39;00m \u001b[38;5;167;01mRuntimeError\u001b[39;00m(\u001b[38;5;124mf\u001b[39m\u001b[38;5;124m\"\u001b[39m\u001b[38;5;124mre-tracing function \u001b[39m\u001b[38;5;132;01m{\u001b[39;00mjit_info\u001b[38;5;241m.\u001b[39mfun_sourceinfo\u001b[38;5;132;01m}\u001b[39;00m\u001b[38;5;124m for \u001b[39m\u001b[38;5;124m\"\u001b[39m\n\u001b[1;32m    337\u001b[0m                      \u001b[38;5;124m\"\u001b[39m\u001b[38;5;124m`jit`, but \u001b[39m\u001b[38;5;124m'\u001b[39m\u001b[38;5;124mno_tracing\u001b[39m\u001b[38;5;124m'\u001b[39m\u001b[38;5;124m is set\u001b[39m\u001b[38;5;124m\"\u001b[39m)\n\u001b[0;32m--> 338\u001b[0m outs, out_flat, out_tree, args_flat, jaxpr, attrs_tracked \u001b[38;5;241m=\u001b[39m _python_pjit_helper(\n\u001b[1;32m    339\u001b[0m     fun, jit_info, \u001b[38;5;241m*\u001b[39margs, \u001b[38;5;241m*\u001b[39m\u001b[38;5;241m*\u001b[39mkwargs)\n\u001b[1;32m    340\u001b[0m executable \u001b[38;5;241m=\u001b[39m _read_most_recent_pjit_call_executable(jaxpr)\n\u001b[1;32m    341\u001b[0m pgle_profiler \u001b[38;5;241m=\u001b[39m _read_pgle_profiler(jaxpr)\n",
      "File \u001b[0;32m~/anaconda3/envs/cs224n/lib/python3.11/site-packages/jax/_src/pjit.py:188\u001b[0m, in \u001b[0;36m_python_pjit_helper\u001b[0;34m(fun, jit_info, *args, **kwargs)\u001b[0m\n\u001b[1;32m    185\u001b[0m   args_flat \u001b[38;5;241m=\u001b[39m [\u001b[38;5;241m*\u001b[39minit_states, \u001b[38;5;241m*\u001b[39margs_flat]\n\u001b[1;32m    187\u001b[0m \u001b[38;5;28;01mtry\u001b[39;00m:\n\u001b[0;32m--> 188\u001b[0m   out_flat \u001b[38;5;241m=\u001b[39m pjit_p\u001b[38;5;241m.\u001b[39mbind(\u001b[38;5;241m*\u001b[39margs_flat, \u001b[38;5;241m*\u001b[39m\u001b[38;5;241m*\u001b[39mp\u001b[38;5;241m.\u001b[39mparams)\n\u001b[1;32m    189\u001b[0m \u001b[38;5;28;01mexcept\u001b[39;00m pxla\u001b[38;5;241m.\u001b[39mDeviceAssignmentMismatchError \u001b[38;5;28;01mas\u001b[39;00m e:\n\u001b[1;32m    190\u001b[0m   fails, \u001b[38;5;241m=\u001b[39m e\u001b[38;5;241m.\u001b[39margs\n",
      "File \u001b[0;32m~/anaconda3/envs/cs224n/lib/python3.11/site-packages/jax/_src/core.py:2803\u001b[0m, in \u001b[0;36mAxisPrimitive.bind\u001b[0;34m(self, *args, **params)\u001b[0m\n\u001b[1;32m   2799\u001b[0m axis_main \u001b[38;5;241m=\u001b[39m \u001b[38;5;28mmax\u001b[39m((axis_frame(a)\u001b[38;5;241m.\u001b[39mmain_trace \u001b[38;5;28;01mfor\u001b[39;00m a \u001b[38;5;129;01min\u001b[39;00m used_axis_names(\u001b[38;5;28mself\u001b[39m, params)),\n\u001b[1;32m   2800\u001b[0m                 default\u001b[38;5;241m=\u001b[39m\u001b[38;5;28;01mNone\u001b[39;00m, key\u001b[38;5;241m=\u001b[39m\u001b[38;5;28;01mlambda\u001b[39;00m t: \u001b[38;5;28mgetattr\u001b[39m(t, \u001b[38;5;124m'\u001b[39m\u001b[38;5;124mlevel\u001b[39m\u001b[38;5;124m'\u001b[39m, \u001b[38;5;241m-\u001b[39m\u001b[38;5;241m1\u001b[39m))\n\u001b[1;32m   2801\u001b[0m top_trace \u001b[38;5;241m=\u001b[39m (top_trace \u001b[38;5;28;01mif\u001b[39;00m \u001b[38;5;129;01mnot\u001b[39;00m axis_main \u001b[38;5;129;01mor\u001b[39;00m axis_main\u001b[38;5;241m.\u001b[39mlevel \u001b[38;5;241m<\u001b[39m top_trace\u001b[38;5;241m.\u001b[39mlevel\n\u001b[1;32m   2802\u001b[0m              \u001b[38;5;28;01melse\u001b[39;00m axis_main\u001b[38;5;241m.\u001b[39mwith_cur_sublevel())\n\u001b[0;32m-> 2803\u001b[0m \u001b[38;5;28;01mreturn\u001b[39;00m \u001b[38;5;28mself\u001b[39m\u001b[38;5;241m.\u001b[39mbind_with_trace(top_trace, args, params)\n",
      "File \u001b[0;32m~/anaconda3/envs/cs224n/lib/python3.11/site-packages/jax/_src/core.py:442\u001b[0m, in \u001b[0;36mPrimitive.bind_with_trace\u001b[0;34m(self, trace, args, params)\u001b[0m\n\u001b[1;32m    440\u001b[0m \u001b[38;5;28;01mdef\u001b[39;00m \u001b[38;5;21mbind_with_trace\u001b[39m(\u001b[38;5;28mself\u001b[39m, trace, args, params):\n\u001b[1;32m    441\u001b[0m   \u001b[38;5;28;01mwith\u001b[39;00m pop_level(trace\u001b[38;5;241m.\u001b[39mlevel):\n\u001b[0;32m--> 442\u001b[0m     out \u001b[38;5;241m=\u001b[39m trace\u001b[38;5;241m.\u001b[39mprocess_primitive(\u001b[38;5;28mself\u001b[39m, \u001b[38;5;28mmap\u001b[39m(trace\u001b[38;5;241m.\u001b[39mfull_raise, args), params)\n\u001b[1;32m    443\u001b[0m   \u001b[38;5;28;01mreturn\u001b[39;00m \u001b[38;5;28mmap\u001b[39m(full_lower, out) \u001b[38;5;28;01mif\u001b[39;00m \u001b[38;5;28mself\u001b[39m\u001b[38;5;241m.\u001b[39mmultiple_results \u001b[38;5;28;01melse\u001b[39;00m full_lower(out)\n",
      "File \u001b[0;32m~/anaconda3/envs/cs224n/lib/python3.11/site-packages/jax/_src/interpreters/ad.py:302\u001b[0m, in \u001b[0;36mJVPTrace.process_primitive\u001b[0;34m(self, primitive, tracers, params)\u001b[0m\n\u001b[1;32m    300\u001b[0m   msg \u001b[38;5;241m=\u001b[39m \u001b[38;5;124mf\u001b[39m\u001b[38;5;124m\"\u001b[39m\u001b[38;5;124mDifferentiation rule for \u001b[39m\u001b[38;5;124m'\u001b[39m\u001b[38;5;132;01m{\u001b[39;00mprimitive\u001b[38;5;132;01m}\u001b[39;00m\u001b[38;5;124m'\u001b[39m\u001b[38;5;124m not implemented\u001b[39m\u001b[38;5;124m\"\u001b[39m\n\u001b[1;32m    301\u001b[0m   \u001b[38;5;28;01mraise\u001b[39;00m \u001b[38;5;167;01mNotImplementedError\u001b[39;00m(msg)\n\u001b[0;32m--> 302\u001b[0m primal_out, tangent_out \u001b[38;5;241m=\u001b[39m jvp(primals_in, tangents_in, \u001b[38;5;241m*\u001b[39m\u001b[38;5;241m*\u001b[39mparams)\n\u001b[1;32m    303\u001b[0m \u001b[38;5;28;01mif\u001b[39;00m primitive\u001b[38;5;241m.\u001b[39mmultiple_results:\n\u001b[1;32m    304\u001b[0m   \u001b[38;5;28;01mreturn\u001b[39;00m [JVPTracer(\u001b[38;5;28mself\u001b[39m, x, t) \u001b[38;5;28;01mfor\u001b[39;00m x, t \u001b[38;5;129;01min\u001b[39;00m \u001b[38;5;28mzip\u001b[39m(primal_out, tangent_out)]\n",
      "File \u001b[0;32m~/anaconda3/envs/cs224n/lib/python3.11/site-packages/jax/_src/pjit.py:2052\u001b[0m, in \u001b[0;36m_pjit_jvp\u001b[0;34m(primals_in, tangents_in, jaxpr, in_shardings, out_shardings, in_layouts, out_layouts, resource_env, donated_invars, name, keep_unused, inline)\u001b[0m\n\u001b[1;32m   2050\u001b[0m _filter_zeros_in \u001b[38;5;241m=\u001b[39m partial(_filter_zeros, is_nz_tangents_in)\n\u001b[1;32m   2051\u001b[0m _filter_zeros_out \u001b[38;5;241m=\u001b[39m partial(_filter_zeros, is_nz_tangents_out)\n\u001b[0;32m-> 2052\u001b[0m outputs \u001b[38;5;241m=\u001b[39m pjit_p\u001b[38;5;241m.\u001b[39mbind(\n\u001b[1;32m   2053\u001b[0m     \u001b[38;5;241m*\u001b[39mprimals_in, \u001b[38;5;241m*\u001b[39m_filter_zeros_in(tangents_in),\n\u001b[1;32m   2054\u001b[0m     jaxpr\u001b[38;5;241m=\u001b[39mjaxpr_jvp,\n\u001b[1;32m   2055\u001b[0m     in_shardings\u001b[38;5;241m=\u001b[39m(\u001b[38;5;241m*\u001b[39min_shardings, \u001b[38;5;241m*\u001b[39m_filter_zeros_in(in_shardings)),\n\u001b[1;32m   2056\u001b[0m     out_shardings\u001b[38;5;241m=\u001b[39m(\u001b[38;5;241m*\u001b[39mout_shardings, \u001b[38;5;241m*\u001b[39m_filter_zeros_out(out_shardings)),\n\u001b[1;32m   2057\u001b[0m     in_layouts\u001b[38;5;241m=\u001b[39m(\u001b[38;5;241m*\u001b[39min_layouts, \u001b[38;5;241m*\u001b[39m_filter_zeros_in(in_layouts)),\n\u001b[1;32m   2058\u001b[0m     out_layouts\u001b[38;5;241m=\u001b[39m(\u001b[38;5;241m*\u001b[39mout_layouts, \u001b[38;5;241m*\u001b[39m_filter_zeros_out(out_layouts)),\n\u001b[1;32m   2059\u001b[0m     resource_env\u001b[38;5;241m=\u001b[39mresource_env,\n\u001b[1;32m   2060\u001b[0m     donated_invars\u001b[38;5;241m=\u001b[39m(\u001b[38;5;241m*\u001b[39mdonated_invars, \u001b[38;5;241m*\u001b[39m_filter_zeros_in(donated_invars)),\n\u001b[1;32m   2061\u001b[0m     name\u001b[38;5;241m=\u001b[39mname,\n\u001b[1;32m   2062\u001b[0m     keep_unused\u001b[38;5;241m=\u001b[39mkeep_unused,\n\u001b[1;32m   2063\u001b[0m     inline\u001b[38;5;241m=\u001b[39minline)\n\u001b[1;32m   2065\u001b[0m primals_out, tangents_out \u001b[38;5;241m=\u001b[39m split_list(outputs, [\u001b[38;5;28mlen\u001b[39m(jaxpr\u001b[38;5;241m.\u001b[39mjaxpr\u001b[38;5;241m.\u001b[39moutvars)])\n\u001b[1;32m   2066\u001b[0m \u001b[38;5;28;01massert\u001b[39;00m \u001b[38;5;28mlen\u001b[39m(primals_out) \u001b[38;5;241m==\u001b[39m \u001b[38;5;28mlen\u001b[39m(jaxpr\u001b[38;5;241m.\u001b[39mjaxpr\u001b[38;5;241m.\u001b[39moutvars)\n",
      "File \u001b[0;32m~/anaconda3/envs/cs224n/lib/python3.11/site-packages/jax/_src/core.py:2803\u001b[0m, in \u001b[0;36mAxisPrimitive.bind\u001b[0;34m(self, *args, **params)\u001b[0m\n\u001b[1;32m   2799\u001b[0m axis_main \u001b[38;5;241m=\u001b[39m \u001b[38;5;28mmax\u001b[39m((axis_frame(a)\u001b[38;5;241m.\u001b[39mmain_trace \u001b[38;5;28;01mfor\u001b[39;00m a \u001b[38;5;129;01min\u001b[39;00m used_axis_names(\u001b[38;5;28mself\u001b[39m, params)),\n\u001b[1;32m   2800\u001b[0m                 default\u001b[38;5;241m=\u001b[39m\u001b[38;5;28;01mNone\u001b[39;00m, key\u001b[38;5;241m=\u001b[39m\u001b[38;5;28;01mlambda\u001b[39;00m t: \u001b[38;5;28mgetattr\u001b[39m(t, \u001b[38;5;124m'\u001b[39m\u001b[38;5;124mlevel\u001b[39m\u001b[38;5;124m'\u001b[39m, \u001b[38;5;241m-\u001b[39m\u001b[38;5;241m1\u001b[39m))\n\u001b[1;32m   2801\u001b[0m top_trace \u001b[38;5;241m=\u001b[39m (top_trace \u001b[38;5;28;01mif\u001b[39;00m \u001b[38;5;129;01mnot\u001b[39;00m axis_main \u001b[38;5;129;01mor\u001b[39;00m axis_main\u001b[38;5;241m.\u001b[39mlevel \u001b[38;5;241m<\u001b[39m top_trace\u001b[38;5;241m.\u001b[39mlevel\n\u001b[1;32m   2802\u001b[0m              \u001b[38;5;28;01melse\u001b[39;00m axis_main\u001b[38;5;241m.\u001b[39mwith_cur_sublevel())\n\u001b[0;32m-> 2803\u001b[0m \u001b[38;5;28;01mreturn\u001b[39;00m \u001b[38;5;28mself\u001b[39m\u001b[38;5;241m.\u001b[39mbind_with_trace(top_trace, args, params)\n",
      "File \u001b[0;32m~/anaconda3/envs/cs224n/lib/python3.11/site-packages/jax/_src/core.py:442\u001b[0m, in \u001b[0;36mPrimitive.bind_with_trace\u001b[0;34m(self, trace, args, params)\u001b[0m\n\u001b[1;32m    440\u001b[0m \u001b[38;5;28;01mdef\u001b[39;00m \u001b[38;5;21mbind_with_trace\u001b[39m(\u001b[38;5;28mself\u001b[39m, trace, args, params):\n\u001b[1;32m    441\u001b[0m   \u001b[38;5;28;01mwith\u001b[39;00m pop_level(trace\u001b[38;5;241m.\u001b[39mlevel):\n\u001b[0;32m--> 442\u001b[0m     out \u001b[38;5;241m=\u001b[39m trace\u001b[38;5;241m.\u001b[39mprocess_primitive(\u001b[38;5;28mself\u001b[39m, \u001b[38;5;28mmap\u001b[39m(trace\u001b[38;5;241m.\u001b[39mfull_raise, args), params)\n\u001b[1;32m    443\u001b[0m   \u001b[38;5;28;01mreturn\u001b[39;00m \u001b[38;5;28mmap\u001b[39m(full_lower, out) \u001b[38;5;28;01mif\u001b[39;00m \u001b[38;5;28mself\u001b[39m\u001b[38;5;241m.\u001b[39mmultiple_results \u001b[38;5;28;01melse\u001b[39;00m full_lower(out)\n",
      "File \u001b[0;32m~/anaconda3/envs/cs224n/lib/python3.11/site-packages/jax/_src/interpreters/partial_eval.py:210\u001b[0m, in \u001b[0;36mJaxprTrace.process_primitive\u001b[0;34m(self, primitive, tracers, params)\u001b[0m\n\u001b[1;32m    208\u001b[0m \u001b[38;5;28;01mdef\u001b[39;00m \u001b[38;5;21mprocess_primitive\u001b[39m(\u001b[38;5;28mself\u001b[39m, primitive, tracers, params):\n\u001b[1;32m    209\u001b[0m   \u001b[38;5;28;01mif\u001b[39;00m primitive \u001b[38;5;129;01min\u001b[39;00m custom_partial_eval_rules:\n\u001b[0;32m--> 210\u001b[0m     \u001b[38;5;28;01mreturn\u001b[39;00m custom_partial_eval_rules[primitive](\u001b[38;5;28mself\u001b[39m, \u001b[38;5;241m*\u001b[39mtracers, \u001b[38;5;241m*\u001b[39m\u001b[38;5;241m*\u001b[39mparams)\n\u001b[1;32m    211\u001b[0m   \u001b[38;5;28;01melse\u001b[39;00m:\n\u001b[1;32m    212\u001b[0m     \u001b[38;5;28;01mreturn\u001b[39;00m \u001b[38;5;28mself\u001b[39m\u001b[38;5;241m.\u001b[39mdefault_process_primitive(primitive, tracers, params)\n",
      "File \u001b[0;32m~/anaconda3/envs/cs224n/lib/python3.11/site-packages/jax/_src/pjit.py:2106\u001b[0m, in \u001b[0;36m_pjit_partial_eval\u001b[0;34m(trace, jaxpr, in_shardings, out_shardings, in_layouts, out_layouts, resource_env, donated_invars, name, keep_unused, inline, *in_tracers)\u001b[0m\n\u001b[1;32m   2104\u001b[0m \u001b[38;5;66;03m# Input-to-output forwarding: compute which outputs are just forwarded inputs.\u001b[39;00m\n\u001b[1;32m   2105\u001b[0m num_out_primals \u001b[38;5;241m=\u001b[39m \u001b[38;5;28mlen\u001b[39m(known_jaxpr\u001b[38;5;241m.\u001b[39mout_avals) \u001b[38;5;241m-\u001b[39m num_residuals\n\u001b[0;32m-> 2106\u001b[0m in_fwd: \u001b[38;5;28mlist\u001b[39m[\u001b[38;5;28mint\u001b[39m \u001b[38;5;241m|\u001b[39m \u001b[38;5;28;01mNone\u001b[39;00m] \u001b[38;5;241m=\u001b[39m pe\u001b[38;5;241m.\u001b[39m_jaxpr_forwarding(known_jaxpr\u001b[38;5;241m.\u001b[39mjaxpr)\n\u001b[1;32m   2107\u001b[0m \u001b[38;5;66;03m# Only forward primal outputs when corresponding out_sharding is UNSPECIFIED.\u001b[39;00m\n\u001b[1;32m   2108\u001b[0m in_fwd_primal, in_fwd_res \u001b[38;5;241m=\u001b[39m split_list(in_fwd, [num_out_primals])\n",
      "File \u001b[0;32m~/anaconda3/envs/cs224n/lib/python3.11/site-packages/jax/_src/interpreters/partial_eval.py:1410\u001b[0m, in \u001b[0;36m_jaxpr_forwarding\u001b[0;34m(jaxpr)\u001b[0m\n\u001b[1;32m   1408\u001b[0m         fwds[v_orig] \u001b[38;5;241m=\u001b[39m v_new\n\u001b[1;32m   1409\u001b[0m idxs: \u001b[38;5;28mdict\u001b[39m[Var, \u001b[38;5;28mint\u001b[39m] \u001b[38;5;241m=\u001b[39m {v: i \u001b[38;5;28;01mfor\u001b[39;00m i, v \u001b[38;5;129;01min\u001b[39;00m \u001b[38;5;28menumerate\u001b[39m(jaxpr\u001b[38;5;241m.\u001b[39minvars)}\n\u001b[0;32m-> 1410\u001b[0m \u001b[38;5;28;01mreturn\u001b[39;00m [\u001b[38;5;28;01mNone\u001b[39;00m \u001b[38;5;28;01mif\u001b[39;00m \u001b[38;5;28mtype\u001b[39m(v) \u001b[38;5;129;01mis\u001b[39;00m Literal \u001b[38;5;28;01melse\u001b[39;00m idxs\u001b[38;5;241m.\u001b[39mget(fwds\u001b[38;5;241m.\u001b[39mget(v))  \u001b[38;5;66;03m# type: ignore\u001b[39;00m\n\u001b[1;32m   1411\u001b[0m         \u001b[38;5;28;01mfor\u001b[39;00m v \u001b[38;5;129;01min\u001b[39;00m jaxpr\u001b[38;5;241m.\u001b[39moutvars]\n",
      "File \u001b[0;32m~/anaconda3/envs/cs224n/lib/python3.11/site-packages/jax/_src/interpreters/partial_eval.py:1410\u001b[0m, in \u001b[0;36m<listcomp>\u001b[0;34m(.0)\u001b[0m\n\u001b[1;32m   1408\u001b[0m         fwds[v_orig] \u001b[38;5;241m=\u001b[39m v_new\n\u001b[1;32m   1409\u001b[0m idxs: \u001b[38;5;28mdict\u001b[39m[Var, \u001b[38;5;28mint\u001b[39m] \u001b[38;5;241m=\u001b[39m {v: i \u001b[38;5;28;01mfor\u001b[39;00m i, v \u001b[38;5;129;01min\u001b[39;00m \u001b[38;5;28menumerate\u001b[39m(jaxpr\u001b[38;5;241m.\u001b[39minvars)}\n\u001b[0;32m-> 1410\u001b[0m \u001b[38;5;28;01mreturn\u001b[39;00m [\u001b[38;5;28;01mNone\u001b[39;00m \u001b[38;5;28;01mif\u001b[39;00m \u001b[38;5;28mtype\u001b[39m(v) \u001b[38;5;129;01mis\u001b[39;00m Literal \u001b[38;5;28;01melse\u001b[39;00m idxs\u001b[38;5;241m.\u001b[39mget(fwds\u001b[38;5;241m.\u001b[39mget(v))  \u001b[38;5;66;03m# type: ignore\u001b[39;00m\n\u001b[1;32m   1411\u001b[0m         \u001b[38;5;28;01mfor\u001b[39;00m v \u001b[38;5;129;01min\u001b[39;00m jaxpr\u001b[38;5;241m.\u001b[39moutvars]\n",
      "\u001b[0;31mKeyboardInterrupt\u001b[0m: "
     ]
    }
   ],
   "source": [
    "%%time\n",
    "for i in range(100):\n",
    "    d_index_symbol(random.uniform(key, shape=(3,)))"
   ]
  },
  {
   "cell_type": "code",
   "execution_count": null,
   "id": "e5c74c43",
   "metadata": {},
   "outputs": [
    {
     "name": "stdout",
     "output_type": "stream",
     "text": [
      "CPU times: user 2min 28s, sys: 6.77 s, total: 2min 35s\n",
      "Wall time: 50.3 s\n"
     ]
    }
   ],
   "source": [
    "%%time\n",
    "for i in range(100):\n",
    "    d_index_symbol_analytic(random.uniform(key, shape=(3,)))"
   ]
  },
  {
   "cell_type": "code",
   "execution_count": null,
   "id": "b9a5dff8",
   "metadata": {},
   "outputs": [
    {
     "name": "stdout",
     "output_type": "stream",
     "text": [
      "CPU times: user 11.4 s, sys: 430 ms, total: 11.9 s\n",
      "Wall time: 4.69 s\n"
     ]
    }
   ],
   "source": [
    "%%time \n",
    "\n",
    "for i in range(100):\n",
    "    arand = random.uniform(key, shape=(3,))\n",
    "    _Q(1, -1, arand, index_symbol(arand), d_index_symbol(arand))  \n",
    "# jnp.array([4.0, 2.0, 1.0]))\n",
    "# the precision of the Q's vs mathematica was a good way to test the values of U, n_disc\n",
    "# with a perturbation of 1e-5, U=1e4, n_disc=1e6 I was getting way off when epsilon=-1"
   ]
  },
  {
   "cell_type": "code",
   "execution_count": null,
   "id": "bdb06504",
   "metadata": {},
   "outputs": [
    {
     "name": "stdout",
     "output_type": "stream",
     "text": [
      "CPU times: user 35.7 s, sys: 578 ms, total: 36.3 s\n",
      "Wall time: 29.9 s\n"
     ]
    }
   ],
   "source": [
    "%%time\n",
    "for i in range(100):\n",
    "    _b(random.uniform(key, shape=(3,)))"
   ]
  },
  {
   "cell_type": "markdown",
   "id": "e5ba4455",
   "metadata": {},
   "source": [
    "### Solve ODE"
   ]
  },
  {
   "cell_type": "code",
   "execution_count": null,
   "id": "f327cc8a",
   "metadata": {},
   "outputs": [],
   "source": [
    "def coeffs(t, a, args):\n",
    "    nu = args[0]\n",
    "    return nu * _b(a)\n",
    "\n",
    "\n",
    "term = ODETerm(coeffs)\n",
    "solver = Dopri5()\n",
    "\n",
    "solution = diffeqsolve(\n",
    "    term,\n",
    "    solver,\n",
    "    t0=0.0,\n",
    "    t1=T,\n",
    "    dt0=step_size,\n",
    "    y0=a_0,\n",
    "    args=(viscosity,),\n",
    "    saveat=SaveAt(ts=jnp.linspace(0, T, T * 100)),\n",
    ")\n",
    "\n",
    "# 5) Grab time-series\n",
    "ts = solution.ts  # shape (200,)\n",
    "ys = solution.ys  # shape (200, 2)"
   ]
  },
  {
   "cell_type": "code",
   "execution_count": null,
   "id": "d5eccdd4",
   "metadata": {},
   "outputs": [],
   "source": [
    "plt.figure()\n",
    "plt.plot(ts, ys[:, 0], label=\"a1\")\n",
    "plt.plot(ts, ys[:, 1], label=\"a2\")\n",
    "plt.xlabel(\"Time\")\n",
    "plt.ylabel(\"y\")\n",
    "plt.title(\"Solutions a1, a2 over time\")\n",
    "plt.legend()\n",
    "plt.show()"
   ]
  }
 ],
 "metadata": {
  "kernelspec": {
   "display_name": "cs224n",
   "language": "python",
   "name": "cs224n"
  },
  "language_info": {
   "codemirror_mode": {
    "name": "ipython",
    "version": 3
   },
   "file_extension": ".py",
   "mimetype": "text/x-python",
   "name": "python",
   "nbconvert_exporter": "python",
   "pygments_lexer": "ipython3",
   "version": "3.11.7"
  }
 },
 "nbformat": 4,
 "nbformat_minor": 5
}
