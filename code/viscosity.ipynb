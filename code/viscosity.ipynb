{
 "cells": [
  {
   "cell_type": "code",
   "execution_count": 24,
   "id": "5c430457",
   "metadata": {},
   "outputs": [],
   "source": [
    "import jax.numpy as jnp\n",
    "import jax.scipy as jsp\n",
    "from jaxtyping import Array\n",
    "from diffrax import ODETerm, Dopri5, diffeqsolve, SaveAt\n",
    "import matplotlib.pyplot as plt"
   ]
  },
  {
   "cell_type": "markdown",
   "id": "0a277aee",
   "metadata": {},
   "source": [
    "### Define relevant constants"
   ]
  },
  {
   "cell_type": "code",
   "execution_count": null,
   "id": "6eb1c319",
   "metadata": {},
   "outputs": [],
   "source": [
    "omega_0 = jnp.sqrt(0.44022)\n",
    "e0 = 0.95289\n",
    "viscosity = 1\n",
    "\n",
    "U = 1e4  # finite upper bound for numerical integration over [0, infty]\n",
    "n_disc = int(1e6)  # number of discretization points per integral\n",
    "\n",
    "\n",
    "eps = 1e-5\n",
    "e = 0.94\n",
    "a_0 = jnp.array(\n",
    "    [\n",
    "        (1 - e**2) ** (-1 / 6) * (1 + eps),\n",
    "        (1 - e**2) ** (-1 / 6) / (1 + eps),\n",
    "        (1 - e**2) ** (1 / 3),\n",
    "    ]\n",
    ")\n",
    "\n",
    "T = 100"
   ]
  },
  {
   "cell_type": "markdown",
   "id": "62d7ef35",
   "metadata": {},
   "source": [
    "### Set up numerical index symbols and corresponding derivative"
   ]
  },
  {
   "cell_type": "code",
   "execution_count": 26,
   "id": "a4d1c45d",
   "metadata": {},
   "outputs": [],
   "source": [
    "def A(a: Array) -> Array:\n",
    "    assert a.shape == (3,)\n",
    "    u = jnp.expand_dims(jnp.linspace(0, U, n_disc), axis=1)\n",
    "\n",
    "    y = (a[0] * a[1] * a[2]) / (\n",
    "        (a**2 + u) * jnp.sqrt((a[0] ** 2 + u) * (a[1] ** 2 + u) * (a[2] ** 2 + u))\n",
    "    )\n",
    "    return jsp.integrate.trapezoid(y.T, u.flatten())"
   ]
  },
  {
   "cell_type": "code",
   "execution_count": 29,
   "id": "401c6ba5",
   "metadata": {},
   "outputs": [
    {
     "name": "stdout",
     "output_type": "stream",
     "text": [
      "CPU times: user 11.3 ms, sys: 28.3 ms, total: 39.7 ms\n",
      "Wall time: 13 ms\n"
     ]
    },
    {
     "data": {
      "text/plain": [
       "Array([1.2057469 , 0.56955755, 0.22469594], dtype=float32)"
      ]
     },
     "execution_count": 29,
     "metadata": {},
     "output_type": "execute_result"
    }
   ],
   "source": [
    "%time A(jnp.array([1, 2, 4]))"
   ]
  }
 ],
 "metadata": {
  "kernelspec": {
   "display_name": "cs224n",
   "language": "python",
   "name": "cs224n"
  },
  "language_info": {
   "codemirror_mode": {
    "name": "ipython",
    "version": 3
   },
   "file_extension": ".py",
   "mimetype": "text/x-python",
   "name": "python",
   "nbconvert_exporter": "python",
   "pygments_lexer": "ipython3",
   "version": "3.11.7"
  }
 },
 "nbformat": 4,
 "nbformat_minor": 5
}
