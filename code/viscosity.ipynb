{
 "cells": [
  {
   "cell_type": "code",
   "execution_count": 144,
   "id": "5c430457",
   "metadata": {},
   "outputs": [],
   "source": [
    "import jax\n",
    "import jax.numpy as jnp\n",
    "import jax.scipy as jsp\n",
    "from jaxtyping import Array, Int, Float\n",
    "from diffrax import ODETerm, Dopri5, diffeqsolve, SaveAt\n",
    "import matplotlib.pyplot as plt"
   ]
  },
  {
   "cell_type": "markdown",
   "id": "0a277aee",
   "metadata": {},
   "source": [
    "### Define relevant constants"
   ]
  },
  {
   "cell_type": "code",
   "execution_count": 145,
   "id": "6eb1c319",
   "metadata": {},
   "outputs": [
    {
     "data": {
      "text/plain": [
       "Array([1.432546  , 1.4296852 , 0.48825982], dtype=float32)"
      ]
     },
     "execution_count": 145,
     "metadata": {},
     "output_type": "execute_result"
    }
   ],
   "source": [
    "omega_0 = jnp.sqrt(0.44022)\n",
    "e0 = 0.95289\n",
    "viscosity = 1\n",
    "\n",
    "U = 1e4  # finite upper bound for numerical integration over [0, infty]\n",
    "n_disc = int(1e6)  # number of discretization points per integral\n",
    "\n",
    "\n",
    "eps = 1e-3\n",
    "e = 0.94\n",
    "a_0 = jnp.array(\n",
    "    [\n",
    "        (1 - e**2) ** (-1 / 6) * (1 + eps),\n",
    "        (1 - e**2) ** (-1 / 6) / (1 + eps),\n",
    "        (1 - e**2) ** (1 / 3),\n",
    "    ]\n",
    ")\n",
    "\n",
    "T = 100\n",
    "a_0"
   ]
  },
  {
   "cell_type": "markdown",
   "id": "62d7ef35",
   "metadata": {},
   "source": [
    "### Set up numerical index symbols and corresponding derivative"
   ]
  },
  {
   "cell_type": "code",
   "execution_count": 146,
   "id": "a4d1c45d",
   "metadata": {},
   "outputs": [],
   "source": [
    "def index_symbol(a: Array) -> Array:\n",
    "    \"\"\"\n",
    "    Input: a [shape (3,)]\n",
    "    Output: Index symbols A [shape (3,)]\n",
    "    \"\"\"\n",
    "    assert a.shape == (3,)\n",
    "    u = jnp.expand_dims(jnp.linspace(0, U, n_disc), axis=1)\n",
    "\n",
    "    y = (a[0] * a[1] * a[2]) / (\n",
    "        (a**2 + u) * jnp.sqrt((a[0] ** 2 + u) * (a[1] ** 2 + u) * (a[2] ** 2 + u))\n",
    "    )\n",
    "    return jsp.integrate.trapezoid(y.T, u.flatten())\n",
    "\n",
    "\n",
    "# index_symbol(jnp.array([1, 2, 4]))"
   ]
  },
  {
   "cell_type": "code",
   "execution_count": 147,
   "id": "401c6ba5",
   "metadata": {},
   "outputs": [],
   "source": [
    "def d_index_symbol(a: Array) -> Array:\n",
    "    \"\"\"\n",
    "    Input: a [shape (3,)]\n",
    "    Output: derivative matrix dA [shape (3,3)]\n",
    "    with dA[i,j] = \\partial A_i / \\partial a_j (0-indexed)\n",
    "    \"\"\"\n",
    "    return jax.jacobian(index_symbol)(a)\n",
    "\n",
    "\n",
    "# d_index_symbol(jnp.array([1, 2, 4]))"
   ]
  },
  {
   "cell_type": "markdown",
   "id": "8eb75c29",
   "metadata": {},
   "source": [
    "### Define coefficients"
   ]
  },
  {
   "cell_type": "code",
   "execution_count": 148,
   "id": "f994174a",
   "metadata": {},
   "outputs": [],
   "source": [
    "def _Sigma(sign: Int, a: Array) -> Float:\n",
    "    \"\"\"\n",
    "    Private helper for computing lambda and omega, defined such that\n",
    "    Sigma(1) = (Lambda + Omega)^2, Sigma(-1) = (Lambda - Omega)^2\n",
    "    \"\"\"\n",
    "    assert jnp.abs(sign) == 1\n",
    "    A = index_symbol(a)\n",
    "    return 2 * (\n",
    "        (a[0] * A[0] - sign * a[1] * A[1]) / (a[0] - sign * a[1])\n",
    "        + sign * (a[2] ** 2) * A[2] / (a[0] * a[1])\n",
    "    )\n",
    "\n",
    "\n",
    "def Lambda(a: Array) -> Float:  ### vorticity\n",
    "    return (1 / 2) * (jnp.sqrt(_Sigma(1, a)) + jnp.sqrt(_Sigma(-1, a)))\n",
    "\n",
    "\n",
    "def Omega(a: Array) -> Float:  ### angular velocity\n",
    "    return (1 / 2) * (jnp.sqrt(_Sigma(1, a)) - jnp.sqrt(_Sigma(-1, a)))\n",
    "\n",
    "\n",
    "# a = jnp.array([4, 2, 1])\n",
    "# assert jnp.abs((Lambda(a) - Omega(a)) ** 2 - _Sigma(-1, a)) < eps\n",
    "# assert jnp.abs((Lambda(a) + Omega(a)) ** 2 - _Sigma(1, a)) < eps"
   ]
  },
  {
   "cell_type": "code",
   "execution_count": null,
   "id": "141042a6",
   "metadata": {},
   "outputs": [
    {
     "data": {
      "text/plain": [
       "Array(-2.1480188, dtype=float32)"
      ]
     },
     "execution_count": 153,
     "metadata": {},
     "output_type": "execute_result"
    }
   ],
   "source": [
    "def _Q(alpha: Int, epsilon: Int, a: Array) -> Float:\n",
    "    \"\"\"\n",
    "    Helper function for computing b_i coefficients from Detweiler and Lindblom\n",
    "    \"\"\"\n",
    "    assert alpha in [1, 2]\n",
    "    assert jnp.abs(epsilon) == 1\n",
    "    A = index_symbol(a)\n",
    "    dA = d_index_symbol(a)\n",
    "    sgn = -1 if alpha == 1 and epsilon == -1 else 1\n",
    "    alpha -= 1\n",
    "    beta = alpha ^ 1\n",
    "\n",
    "    return (\n",
    "        A[alpha]\n",
    "        + a[alpha] * dA[alpha, alpha]\n",
    "        + epsilon * a[beta] * dA[beta, alpha]\n",
    "        - a[2] * dA[alpha, 2]\n",
    "        - a[2] * a[beta] * dA[beta, 2] / a[alpha]\n",
    "        - (a[0] * A[0] + epsilon * a[1] * A[1]) / (a[0] + epsilon * a[1])\n",
    "        + (\n",
    "            sgn\n",
    "            * (a[0] + epsilon * a[1])\n",
    "            * (3 * A[2] + a[2] * dA[2, 2] - a[alpha] * dA[2, alpha])\n",
    "            * (a[2] ** 2)\n",
    "            / ((a[alpha] ** 2) * a[beta])\n",
    "        )\n",
    "        + 2 * ((Lambda(a) - epsilon * Omega(a)) ** 2)\n",
    "    ) / (Lambda(a) - epsilon * Omega(a))\n",
    "\n",
    "\n",
    "# _Q(1, -1, a_0)  # jnp.array([4.0, 2.0, 1.0]))\n",
    "# the precision of the Q's vs mathematica was a good way to test the values of U, n_disc\n",
    "# with a perturbation of 1e-5, U=1e4, n_disc=1e6 I was getting way off when epsilon=-1"
   ]
  },
  {
   "cell_type": "code",
   "execution_count": null,
   "id": "dd4c196a",
   "metadata": {},
   "outputs": [],
   "source": []
  }
 ],
 "metadata": {
  "kernelspec": {
   "display_name": "cs224n",
   "language": "python",
   "name": "cs224n"
  },
  "language_info": {
   "codemirror_mode": {
    "name": "ipython",
    "version": 3
   },
   "file_extension": ".py",
   "mimetype": "text/x-python",
   "name": "python",
   "nbconvert_exporter": "python",
   "pygments_lexer": "ipython3",
   "version": "3.11.7"
  }
 },
 "nbformat": 4,
 "nbformat_minor": 5
}
