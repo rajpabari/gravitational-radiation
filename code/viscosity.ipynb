{
 "cells": [
  {
   "cell_type": "code",
   "execution_count": 1,
   "id": "5c430457",
   "metadata": {},
   "outputs": [],
   "source": [
    "from jax import jacobian, random\n",
    "import jax.numpy as jnp\n",
    "import jax.scipy as jsp\n",
    "from diffrax import ODETerm, Dopri5, diffeqsolve, SaveAt\n",
    "from jaxtyping import Array, Int, Float\n",
    "import matplotlib.pyplot as plt\n",
    "\n",
    "key = random.PRNGKey(758493)\n",
    "\n",
    "# jax.config.update(\"jax_enable_x64\", True)"
   ]
  },
  {
   "cell_type": "markdown",
   "id": "0a277aee",
   "metadata": {},
   "source": [
    "### Define relevant constants"
   ]
  },
  {
   "cell_type": "code",
   "execution_count": 2,
   "id": "6eb1c319",
   "metadata": {},
   "outputs": [
    {
     "data": {
      "text/plain": [
       "Array([1.432546  , 1.4296852 , 0.48825982], dtype=float32)"
      ]
     },
     "execution_count": 2,
     "metadata": {},
     "output_type": "execute_result"
    }
   ],
   "source": [
    "omega_0 = jnp.sqrt(0.44022)\n",
    "e0 = 0.95289\n",
    "viscosity = 1\n",
    "\n",
    "U = 1e4  # finite upper bound for numerical integration over [0, infty]\n",
    "n_disc = int(1e6)  # number of discretization points per integral\n",
    "\n",
    "step_size = 1e-3\n",
    "\n",
    "\n",
    "eps = 1e-3\n",
    "e = 0.94\n",
    "a_0 = jnp.array(\n",
    "    [\n",
    "        (1 - e**2) ** (-1 / 6) * (1 + eps),\n",
    "        (1 - e**2) ** (-1 / 6) / (1 + eps),\n",
    "        (1 - e**2) ** (1 / 3),\n",
    "    ]\n",
    ")\n",
    "\n",
    "T = 100\n",
    "a_0"
   ]
  },
  {
   "cell_type": "markdown",
   "id": "62d7ef35",
   "metadata": {},
   "source": [
    "### Set up numerical index symbols and corresponding derivative"
   ]
  },
  {
   "cell_type": "code",
   "execution_count": 3,
   "id": "a4d1c45d",
   "metadata": {},
   "outputs": [],
   "source": [
    "def index_symbol(a: Array) -> Array:\n",
    "    \"\"\"\n",
    "    Input: a [shape (3,)]\n",
    "    Output: Index symbols A [shape (3,)]\n",
    "    \"\"\"\n",
    "    assert a.shape == (3,)\n",
    "    u = jnp.expand_dims(jnp.linspace(0, U, n_disc), axis=1)\n",
    "\n",
    "    integrand = (a[0] * a[1] * a[2]) / (\n",
    "        (a**2 + u) * jnp.sqrt((a[0] ** 2 + u) * (a[1] ** 2 + u) * (a[2] ** 2 + u))\n",
    "    )\n",
    "    return jsp.integrate.trapezoid(integrand.T, u.flatten())\n",
    "\n",
    "\n",
    "def d_index_symbol_analytic(a: Array) -> Array:\n",
    "    u = jnp.expand_dims(jnp.linspace(0, U, n_disc), axis=1)\n",
    "\n",
    "    def _d_diagonal(i: Int) -> Float:\n",
    "        j = (i + 1) % 3\n",
    "        k = (i + 2) % 3\n",
    "        integrand = (\n",
    "            -a[j]\n",
    "            * a[k]\n",
    "            * (2 * a[i] ** 2 - u)\n",
    "            / (\n",
    "                jnp.sqrt(u**2 + (a[j] ** 2 + a[k] ** 2) * u + a[j] ** 2 * a[k] ** 2)\n",
    "                * jnp.sqrt(a[i] ** 2 + u)\n",
    "                * (a[i] ** 4 + 2 * u * a[i] ** 2 + u**2)\n",
    "            )\n",
    "        )\n",
    "        return jsp.integrate.trapezoid(integrand.T, u.flatten())\n",
    "\n",
    "    def _d_off_diagonal(i: Int, j: Int) -> Float:\n",
    "        k = 3 - (i + j)\n",
    "        integrand = (a[i] * a[k] * u) / (\n",
    "            (u + a[i] ** 2)\n",
    "            * jnp.sqrt(u**2 + (a[k] ** 2 + a[i] ** 2) * u + (a[i] ** 2 * a[k] ** 2))\n",
    "            * ((a[j] ** 2 + u) ** (3 / 2))\n",
    "        )\n",
    "        return jsp.integrate.trapezoid(integrand.T, u.flatten())\n",
    "\n",
    "    dA = jnp.zeros((3, 3))\n",
    "    rows = [\n",
    "        [_d_diagonal(i) if i == j else _d_off_diagonal(i, j) for j in range(3)]\n",
    "        for i in range(3)\n",
    "    ]\n",
    "    dA = jnp.array(rows)\n",
    "    dA = jnp.squeeze(dA)\n",
    "    return dA\n",
    "\n",
    "\n",
    "def d_index_symbol(a: Array) -> Array:\n",
    "    \"\"\"\n",
    "    Input: a [shape (3,)]\n",
    "    Output: derivative matrix dA [shape (3,3)]\n",
    "    with dA[i,j] = \\partial A_i / \\partial a_j (0-indexed)\n",
    "    \"\"\"\n",
    "    return jacobian(index_symbol)(a)"
   ]
  },
  {
   "cell_type": "code",
   "execution_count": 4,
   "id": "27582b99",
   "metadata": {},
   "outputs": [
    {
     "data": {
      "text/plain": [
       "Array([[8.9406967e-08, 5.9604645e-08, 1.4901161e-08],\n",
       "       [2.2351742e-08, 2.9802322e-08, 2.9802322e-08],\n",
       "       [4.4703484e-08, 1.7881393e-07, 0.0000000e+00]], dtype=float32)"
      ]
     },
     "execution_count": 4,
     "metadata": {},
     "output_type": "execute_result"
    }
   ],
   "source": [
    "abs(\n",
    "    d_index_symbol_analytic(jnp.array([3.2, 2.2, 1.5]))\n",
    "    - d_index_symbol(jnp.array([3.2, 2.2, 1.5]))\n",
    ")"
   ]
  },
  {
   "cell_type": "markdown",
   "id": "8eb75c29",
   "metadata": {},
   "source": [
    "### Define coefficients"
   ]
  },
  {
   "cell_type": "code",
   "execution_count": 5,
   "id": "f994174a",
   "metadata": {},
   "outputs": [],
   "source": [
    "def _Sigma(sign: Int, a: Array, A: Array) -> Float:\n",
    "    \"\"\"\n",
    "    Private helper for computing lambda and omega, defined such that\n",
    "    Sigma(1) = (Lambda + Omega)^2, Sigma(-1) = (Lambda - Omega)^2\n",
    "    \"\"\"\n",
    "    assert abs(sign) == 1\n",
    "    return 2 * (\n",
    "        (a[0] * A[0] - sign * a[1] * A[1]) / (a[0] - sign * a[1])\n",
    "        + sign * (a[2] ** 2) * A[2] / (a[0] * a[1])\n",
    "    )\n",
    "\n",
    "\n",
    "def Lambda(a: Array, A: Array) -> Float:  ### vorticity\n",
    "    return (1 / 2) * (jnp.sqrt(_Sigma(1, a, A)) + jnp.sqrt(_Sigma(-1, a, A)))\n",
    "\n",
    "\n",
    "def Omega(a: Array, A: Array) -> Float:  ### angular velocity\n",
    "    return (1 / 2) * (jnp.sqrt(_Sigma(1, a, A)) - jnp.sqrt(_Sigma(-1, a, A)))"
   ]
  },
  {
   "cell_type": "code",
   "execution_count": 6,
   "id": "d75f717f",
   "metadata": {},
   "outputs": [],
   "source": [
    "### Sanity checks for Lambda and Omega\n",
    "\n",
    "assert (\n",
    "    jnp.abs(\n",
    "        (Lambda(a_0, index_symbol(a_0)) - Omega(a_0, index_symbol(a_0))) ** 2\n",
    "        - _Sigma(-1, a_0, index_symbol(a_0))\n",
    "    )\n",
    "    < eps\n",
    ")\n",
    "assert (\n",
    "    jnp.abs(\n",
    "        (Lambda(a_0, index_symbol(a_0)) + Omega(a_0, index_symbol(a_0))) ** 2\n",
    "        - _Sigma(1, a_0, index_symbol(a_0))\n",
    "    )\n",
    "    < eps\n",
    ")"
   ]
  },
  {
   "cell_type": "code",
   "execution_count": 7,
   "id": "141042a6",
   "metadata": {},
   "outputs": [],
   "source": [
    "def _Q(alpha: Int, epsilon: Int, a: Array, A: Array, dA: Array) -> Float:\n",
    "    \"\"\"\n",
    "    Helper function for computing b_i coefficients (from Detweiler and Lindblom)\n",
    "    \"\"\"\n",
    "    assert alpha in [1, 2]\n",
    "    assert abs(epsilon) == 1\n",
    "    sgn = -1 if alpha == 1 and epsilon == -1 else 1\n",
    "    alpha -= 1\n",
    "    beta = alpha ^ 1\n",
    "\n",
    "    return (\n",
    "        A[alpha]\n",
    "        + a[alpha] * dA[alpha, alpha]\n",
    "        + epsilon * a[beta] * dA[beta, alpha]\n",
    "        - a[2] * dA[alpha, 2]\n",
    "        - a[2] * a[beta] * dA[beta, 2] / a[alpha]\n",
    "        - (a[0] * A[0] + epsilon * a[1] * A[1]) / (a[0] + epsilon * a[1])\n",
    "        + (\n",
    "            sgn\n",
    "            * (a[0] + epsilon * a[1])\n",
    "            * (3 * A[2] + a[2] * dA[2, 2] - a[alpha] * dA[2, alpha])\n",
    "            * (a[2] ** 2)\n",
    "            / ((a[alpha] ** 2) * a[beta])\n",
    "        )\n",
    "        + 2 * ((Lambda(a, A) - epsilon * Omega(a, A)) ** 2)\n",
    "    ) / (Lambda(a, A) - epsilon * Omega(a, A))"
   ]
  },
  {
   "cell_type": "code",
   "execution_count": 8,
   "id": "dd4c196a",
   "metadata": {},
   "outputs": [],
   "source": [
    "def _b(a: Array):\n",
    "    A = index_symbol(a)\n",
    "    dA = d_index_symbol(a)\n",
    "\n",
    "    def _b0() -> Float:\n",
    "        return (\n",
    "            -5\n",
    "            * Lambda(a, A)\n",
    "            * ((a[0] ** 2) - (a[1] ** 2))\n",
    "            / ((a[0] ** 2) * (a[1] ** 2))\n",
    "            * (_Q(2, 1, a, A, dA) * (a[0] + a[1]) + _Q(2, -1, a, A, dA) * (a[0] - a[1]))\n",
    "            / (\n",
    "                _Q(1, 1, a, A, dA) * _Q(2, -1, a, A, dA)\n",
    "                + _Q(1, -1, a, A, dA) * _Q(2, 1, a, A, dA)\n",
    "            )\n",
    "        )\n",
    "\n",
    "    def _b1() -> Float:\n",
    "        return (\n",
    "            -5\n",
    "            * Lambda(a, A)\n",
    "            * ((a[0] ** 2) - (a[1] ** 2))\n",
    "            / ((a[0] ** 2) * (a[1] ** 2))\n",
    "            * (_Q(1, -1, a, A, dA) * (a[0] - a[1]) - _Q(1, 1, a, A, dA) * (a[0] + a[1]))\n",
    "            / (\n",
    "                _Q(1, 1, a, A, dA) * _Q(2, -1, a, A, dA)\n",
    "                + _Q(1, -1, a, A, dA) * _Q(2, 1, a, A, dA)\n",
    "            )\n",
    "        )\n",
    "\n",
    "    def _b2() -> Float:\n",
    "        return -a[2] * (_b0() / a[0] + _b1() / a[1])\n",
    "\n",
    "    return jnp.stack([_b0(), _b1(), _b2()])"
   ]
  },
  {
   "cell_type": "markdown",
   "id": "76b0cbb7",
   "metadata": {},
   "source": [
    "### Timing"
   ]
  },
  {
   "cell_type": "code",
   "execution_count": null,
   "id": "2a50b9be",
   "metadata": {},
   "outputs": [
    {
     "name": "stdout",
     "output_type": "stream",
     "text": [
      "CPU times: user 1.62 s, sys: 94.3 ms, total: 1.71 s\n",
      "Wall time: 621 ms\n"
     ]
    }
   ],
   "source": [
    "# %%time\n",
    "# for i in range(100):\n",
    "#     index_symbol(random.uniform(key, shape=(3,)))"
   ]
  },
  {
   "cell_type": "code",
   "execution_count": null,
   "id": "f3a1de59",
   "metadata": {},
   "outputs": [
    {
     "name": "stdout",
     "output_type": "stream",
     "text": [
      "CPU times: user 8.5 s, sys: 291 ms, total: 8.8 s\n",
      "Wall time: 3.02 s\n"
     ]
    }
   ],
   "source": [
    "# %%time\n",
    "# for i in range(100):\n",
    "#     d_index_symbol(random.uniform(key, shape=(3,)))"
   ]
  },
  {
   "cell_type": "code",
   "execution_count": null,
   "id": "e5c74c43",
   "metadata": {},
   "outputs": [
    {
     "name": "stdout",
     "output_type": "stream",
     "text": [
      "CPU times: user 13.6 s, sys: 912 ms, total: 14.6 s\n",
      "Wall time: 4.9 s\n"
     ]
    }
   ],
   "source": [
    "# %%time\n",
    "# for i in range(100):\n",
    "#     d_index_symbol_analytic(random.uniform(key, shape=(3,)))"
   ]
  },
  {
   "cell_type": "code",
   "execution_count": null,
   "id": "b9a5dff8",
   "metadata": {},
   "outputs": [
    {
     "name": "stdout",
     "output_type": "stream",
     "text": [
      "CPU times: user 11.4 s, sys: 438 ms, total: 11.8 s\n",
      "Wall time: 4.58 s\n"
     ]
    }
   ],
   "source": [
    "# %%time\n",
    "\n",
    "# for i in range(100):\n",
    "#     arand = random.uniform(key, shape=(3,))\n",
    "#     _Q(1, -1, arand, index_symbol(arand), d_index_symbol(arand))\n",
    "# # jnp.array([4.0, 2.0, 1.0]))\n",
    "# # the precision of the Q's vs mathematica was a good way to test the values of U, n_disc\n",
    "# # with a perturbation of 1e-5, U=1e4, n_disc=1e6 I was getting way off when epsilon=-1"
   ]
  },
  {
   "cell_type": "code",
   "execution_count": 13,
   "id": "bdb06504",
   "metadata": {},
   "outputs": [
    {
     "name": "stdout",
     "output_type": "stream",
     "text": [
      "CPU times: user 36.1 s, sys: 789 ms, total: 36.9 s\n",
      "Wall time: 30.4 s\n"
     ]
    }
   ],
   "source": [
    "# %%time\n",
    "# for i in range(100):\n",
    "#     _b(random.uniform(key, shape=(3,)))"
   ]
  },
  {
   "cell_type": "markdown",
   "id": "e5ba4455",
   "metadata": {},
   "source": [
    "### Solve ODE"
   ]
  },
  {
   "cell_type": "code",
   "execution_count": null,
   "id": "f327cc8a",
   "metadata": {},
   "outputs": [],
   "source": [
    "def coeffs(t, a, args):\n",
    "    nu = args[0]\n",
    "    return nu * _b(a)\n",
    "\n",
    "\n",
    "term = ODETerm(coeffs)\n",
    "solver = Dopri5()\n",
    "\n",
    "solution = diffeqsolve(\n",
    "    term,\n",
    "    solver,\n",
    "    t0=0.0,\n",
    "    t1=T,\n",
    "    dt0=step_size,\n",
    "    y0=a_0,\n",
    "    args=(viscosity,),\n",
    "    saveat=SaveAt(ts=jnp.linspace(0, T, T * 100)),\n",
    "    max_steps=2**16,\n",
    ")\n",
    "# 5) Grab time-series\n",
    "ts = solution.ts\n",
    "ys = solution.ys"
   ]
  },
  {
   "cell_type": "code",
   "execution_count": null,
   "id": "d5eccdd4",
   "metadata": {},
   "outputs": [],
   "source": [
    "plt.figure()\n",
    "plt.plot(ts, ys[:, 0], label=\"a1\")\n",
    "plt.plot(ts, ys[:, 1], label=\"a2\")\n",
    "plt.xlabel(\"Time\")\n",
    "plt.ylabel(\"y\")\n",
    "plt.title(\"Solutions a1, a2 over time\")\n",
    "plt.legend()\n",
    "plt.show()"
   ]
  }
 ],
 "metadata": {
  "kernelspec": {
   "display_name": "cs224n",
   "language": "python",
   "name": "cs224n"
  },
  "language_info": {
   "codemirror_mode": {
    "name": "ipython",
    "version": 3
   },
   "file_extension": ".py",
   "mimetype": "text/x-python",
   "name": "python",
   "nbconvert_exporter": "python",
   "pygments_lexer": "ipython3",
   "version": "3.11.7"
  }
 },
 "nbformat": 4,
 "nbformat_minor": 5
}
